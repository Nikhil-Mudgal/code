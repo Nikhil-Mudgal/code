{
 "cells": [
  {
   "cell_type": "code",
   "execution_count": 10,
   "metadata": {},
   "outputs": [],
   "source": [
    "def train(in_alpha,in_l1_ratio):\n",
    "    import os \n",
    "    import sys \n",
    "    import warnings\n",
    "    \n",
    "    import pandas as pd \n",
    "    import numpy as np \n",
    "    from sklearn.metrics import mean_absolute_error, mean_squared_error,\\\n",
    "        r2_score\n",
    "    from sklearn.model_selection import train_test_split \n",
    "    from sklearn.linear_model import ElasticNet \n",
    "    \n",
    "    import mlflow \n",
    "    import mlflow.sklearn\n",
    "\n",
    "    import logging \n",
    "\n",
    "    logging.basicConfig(level=logging.WARN)\n",
    "    logger = logging.getLogger(__name__)\n",
    "\n",
    "    def eval_metrics(actual,pred):\n",
    "        rmse = np.sqrt(mean_squared_error(actual,pred))\n",
    "        mae = mean_absolute_error(actual,pred)\n",
    "        r2 = r2_score(actual,pred)\n",
    "        return rmse,mae,r2\n",
    "\n",
    "    warnings.filterwarnings(\"ignore\")\n",
    "    np.random.seed(42)\n",
    "\n",
    "    csv_url = 'http://archive.ics.uci.edu/ml/machine-learning-databases/wine-quality/winequality-red.csv'\n",
    "\n",
    "    try:\n",
    "        data = pd.read_csv(csv_url,sep=\";\")\n",
    "    except Exception as e:\n",
    "        logger.exception(f\"Unable to fecth the data. Error{e}\")\n",
    "\n",
    "    #Split the data into training and test sets (0.75 and 0.25 split)\n",
    "    train,test = train_test_split(data,test_size=0.25,random_state = 42)\n",
    "\n",
    "    # creating the test and train datasets \n",
    "\n",
    "    train_x = train.drop([\"quality\"],axis = 1)\n",
    "    test_x = test.drop([\"quality\"],axis= 1)\n",
    "    train_y = train[[\"quality\"]]\n",
    "    test_y = test[[\"quality\"]]\n",
    "\n",
    "    #set default values if no alpha is provided \n",
    "    if float(in_alpha) is None:\n",
    "        alpha =0.5\n",
    "    else:\n",
    "        alpha = float(in_alpha)\n",
    "\n",
    "    # set default values if no ll _ration is provided \n",
    "    if float(in_l1_ratio) is None:\n",
    "        l1_ratio = 0.5\n",
    "    else:\n",
    "        l1_ratio = float(in_l1_ratio)\n",
    "\n",
    "    #Useful for multiple runs \n",
    "    with mlflow.start_run():\n",
    "        #Execute ElasticNet\n",
    "        lr = ElasticNet(alpha = alpha , l1_ratio = l1_ratio ,random_state=42)\n",
    "        lr.fit(train_x,train_y)\n",
    "\n",
    "        #Evaluate metrics\n",
    "        predicted_qualities = lr.predict(test_x)\n",
    "        (rmse,mae,r2) = eval_metrics(test_y,predicted_qualities)\n",
    "\n",
    "        #Print out metrics \n",
    "        print(f\"Elasticnet model: aplha = {alpha} l1_ratio = {l1_ratio}\")\n",
    "        print(f\"\\nRMSE {rmse}\")\n",
    "        print(f\" MAE: {mae}\")\n",
    "        print(f\"R2: {r2}\")\n",
    "\n",
    "        # log parameter, metrics and model to MLflow\n",
    "        mlflow.log_param(\"alpha\",alpha)\n",
    "        mlflow.log_param(\"l1_ratio\",l1_ratio)\n",
    "        mlflow.log_param(\"rmse\",rmse)\n",
    "        mlflow.log_param(\"r2\",r2)\n",
    "        mlflow.log_param(\"mae\",mae)\n",
    "\n",
    "        mlflow.sklearn.log_model(lr,\"model\")"
   ]
  },
  {
   "cell_type": "code",
   "execution_count": 11,
   "metadata": {},
   "outputs": [
    {
     "name": "stdout",
     "output_type": "stream",
     "text": [
      "Elasticnet model: aplha = 0.5 l1_ratio = 0.5\n",
      "\n",
      "RMSE 0.7436470916334205\n",
      " MAE: 0.6042761768399746\n",
      "R2: 0.10601910075094545\n"
     ]
    }
   ],
   "source": [
    "train(0.5,0.5)"
   ]
  },
  {
   "cell_type": "code",
   "execution_count": 12,
   "metadata": {},
   "outputs": [
    {
     "name": "stdout",
     "output_type": "stream",
     "text": [
      "Elasticnet model: aplha = 0.2 l1_ratio = 0.2\n",
      "\n",
      "RMSE 0.6926302996485334\n",
      " MAE: 0.5529215843503876\n",
      "R2: 0.22447206750598891\n"
     ]
    }
   ],
   "source": [
    "train(0.2,0.2)"
   ]
  },
  {
   "cell_type": "code",
   "execution_count": null,
   "metadata": {},
   "outputs": [],
   "source": []
  }
 ],
 "metadata": {
  "interpreter": {
   "hash": "432e2750ca8f320d9ee0b3dc11bb3cfc0b744287b33afac1cb54d6c0dcd14a56"
  },
  "kernelspec": {
   "display_name": "Python 3",
   "language": "python",
   "name": "python3"
  },
  "language_info": {
   "codemirror_mode": {
    "name": "ipython",
    "version": 3
   },
   "file_extension": ".py",
   "mimetype": "text/x-python",
   "name": "python",
   "nbconvert_exporter": "python",
   "pygments_lexer": "ipython3",
   "version": "3.8.10"
  }
 },
 "nbformat": 4,
 "nbformat_minor": 2
}
